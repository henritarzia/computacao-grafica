{
 "cells": [
  {
   "cell_type": "markdown",
   "metadata": {},
   "source": [
    "# Aula10.Ex02 - A matriz Model"
   ]
  },
  {
   "cell_type": "markdown",
   "metadata": {},
   "source": [
    "### Primeiro, vamos importar as bibliotecas necessárias.\n",
    "Verifique no código anterior um script para instalar as dependências necessárias (OpenGL e GLFW) antes de prosseguir."
   ]
  },
  {
   "cell_type": "code",
   "execution_count": 33,
   "metadata": {},
   "outputs": [],
   "source": [
    "import glfw\n",
    "from OpenGL.GL import *\n",
    "import OpenGL.GL.shaders\n",
    "import numpy as np\n",
    "import glm\n",
    "import math\n",
    "import random as rand"
   ]
  },
  {
   "cell_type": "markdown",
   "metadata": {},
   "source": [
    "### Inicializando janela"
   ]
  },
  {
   "cell_type": "code",
   "execution_count": 34,
   "metadata": {},
   "outputs": [],
   "source": [
    "glfw.init()\n",
    "glfw.window_hint(glfw.VISIBLE, glfw.FALSE);\n",
    "altura = 720\n",
    "largura = 1280\n",
    "window = glfw.create_window(largura, altura, \"Câmeras - Matriz Model\", None, None)\n",
    "glfw.make_context_current(window)"
   ]
  },
  {
   "cell_type": "markdown",
   "metadata": {},
   "source": [
    "### GLSL (OpenGL Shading Language)\n",
    "\n",
    "Aqui veremos nosso primeiro código GLSL.\n",
    "\n",
    "É uma linguagem de shading de alto nível baseada na linguagem de programação C.\n",
    "\n",
    "Nós estamos escrevendo código GLSL como se \"strings\" de uma variável (mas podemos ler de arquivos texto). Esse código, depois, terá que ser compilado e linkado ao nosso programa. \n",
    "\n",
    "Iremos aprender GLSL conforme a necessidade do curso. Usarmos uma versão do GLSL mais antiga, compatível com muitos dispositivos."
   ]
  },
  {
   "cell_type": "markdown",
   "metadata": {},
   "source": [
    "### GLSL para Vertex Shader\n",
    "\n",
    "No Pipeline programável, podemos interagir com Vertex Shaders.\n",
    "\n",
    "No código abaixo, estamos fazendo o seguinte:\n",
    "\n",
    "* Definindo uma variável chamada position do tipo vec3.\n",
    "* Definindo matrizes Model, View e Projection que acumulam transformações geométricas 3D e permitem navegação no cenário.\n",
    "* void main() é o ponto de entrada do nosso programa (função principal)\n",
    "* gl_Position é uma variável especial do GLSL. Variáveis que começam com 'gl_' são desse tipo. Nesse caso, determina a posição de um vértice. Observe que todo vértice tem 4 coordenadas, por isso nós combinamos nossa variável vec2 com uma variável vec4. Além disso, nós modificamos nosso vetor com base nas transformações Model, View e Projection."
   ]
  },
  {
   "cell_type": "code",
   "execution_count": 35,
   "metadata": {},
   "outputs": [],
   "source": [
    "vertex_code = \"\"\"\n",
    "        attribute vec3 position;\n",
    "                \n",
    "        uniform mat4 model;\n",
    "        uniform mat4 view;\n",
    "        uniform mat4 projection;        \n",
    "        \n",
    "        void main(){\n",
    "            gl_Position = projection * view * model * vec4(position,1.0);\n",
    "        }\n",
    "        \"\"\""
   ]
  },
  {
   "cell_type": "markdown",
   "metadata": {},
   "source": [
    "### GLSL para Fragment Shader\n",
    "\n",
    "No Pipeline programável, podemos interagir com Fragment Shaders.\n",
    "\n",
    "No código abaixo, estamos fazendo o seguinte:\n",
    "\n",
    "* void main() é o ponto de entrada do nosso programa (função principal)\n",
    "* gl_FragColor é uma variável especial do GLSL. Variáveis que começam com 'gl_' são desse tipo. Nesse caso, determina a cor de um fragmento. Nesse caso é um ponto, mas poderia ser outro objeto (ponto, linha, triangulos, etc)."
   ]
  },
  {
   "cell_type": "markdown",
   "metadata": {},
   "source": [
    "### Possibilitando modificar a cor.\n",
    "\n",
    "Nos exemplos anteriores, a variável gl_FragColor estava definida de forma fixa (com cor R=0, G=0, B=0).\n",
    "\n",
    "Agora, nós vamos criar uma variável do tipo \"uniform\", de quatro posições (vec4), para receber o dado de cor do nosso programa rodando em CPU."
   ]
  },
  {
   "cell_type": "code",
   "execution_count": 36,
   "metadata": {},
   "outputs": [],
   "source": [
    "fragment_code = \"\"\"\n",
    "        uniform vec4 color;\n",
    "        void main(){\n",
    "            gl_FragColor = color;\n",
    "        }\n",
    "        \"\"\""
   ]
  },
  {
   "cell_type": "markdown",
   "metadata": {},
   "source": [
    "### Requisitando slot para a GPU para nossos programas Vertex e Fragment Shaders"
   ]
  },
  {
   "cell_type": "code",
   "execution_count": 37,
   "metadata": {},
   "outputs": [],
   "source": [
    "# Request a program and shader slots from GPU\n",
    "program  = glCreateProgram()\n",
    "vertex   = glCreateShader(GL_VERTEX_SHADER)\n",
    "fragment = glCreateShader(GL_FRAGMENT_SHADER)\n"
   ]
  },
  {
   "cell_type": "markdown",
   "metadata": {},
   "source": [
    "### Associando nosso código-fonte aos slots solicitados"
   ]
  },
  {
   "cell_type": "code",
   "execution_count": 38,
   "metadata": {},
   "outputs": [],
   "source": [
    "# Set shaders source\n",
    "glShaderSource(vertex, vertex_code)\n",
    "glShaderSource(fragment, fragment_code)"
   ]
  },
  {
   "cell_type": "markdown",
   "metadata": {},
   "source": [
    "### Compilando o Vertex Shader\n",
    "\n",
    "Se há algum erro em nosso programa Vertex Shader, nosso app para por aqui."
   ]
  },
  {
   "cell_type": "code",
   "execution_count": 39,
   "metadata": {},
   "outputs": [],
   "source": [
    "# Compile shaders\n",
    "glCompileShader(vertex)\n",
    "if not glGetShaderiv(vertex, GL_COMPILE_STATUS):\n",
    "    error = glGetShaderInfoLog(vertex).decode()\n",
    "    print(error)\n",
    "    raise RuntimeError(\"Erro de compilacao do Vertex Shader\")\n"
   ]
  },
  {
   "cell_type": "markdown",
   "metadata": {},
   "source": [
    "### Compilando o Fragment Shader\n",
    "\n",
    "Se há algum erro em nosso programa Fragment Shader, nosso app para por aqui."
   ]
  },
  {
   "cell_type": "code",
   "execution_count": 40,
   "metadata": {},
   "outputs": [],
   "source": [
    "glCompileShader(fragment)\n",
    "if not glGetShaderiv(fragment, GL_COMPILE_STATUS):\n",
    "    error = glGetShaderInfoLog(fragment).decode()\n",
    "    print(error)\n",
    "    raise RuntimeError(\"Erro de compilacao do Fragment Shader\")"
   ]
  },
  {
   "cell_type": "markdown",
   "metadata": {},
   "source": [
    "### Associando os programas compilado ao programa principal"
   ]
  },
  {
   "cell_type": "code",
   "execution_count": 41,
   "metadata": {},
   "outputs": [],
   "source": [
    "# Attach shader objects to the program\n",
    "glAttachShader(program, vertex)\n",
    "glAttachShader(program, fragment)\n"
   ]
  },
  {
   "cell_type": "markdown",
   "metadata": {},
   "source": [
    "### Linkagem do programa"
   ]
  },
  {
   "cell_type": "code",
   "execution_count": 42,
   "metadata": {},
   "outputs": [],
   "source": [
    "# Build program\n",
    "glLinkProgram(program)\n",
    "if not glGetProgramiv(program, GL_LINK_STATUS):\n",
    "    print(glGetProgramInfoLog(program))\n",
    "    raise RuntimeError('Linking error')\n",
    "    \n",
    "# Make program the default program\n",
    "glUseProgram(program)"
   ]
  },
  {
   "cell_type": "markdown",
   "metadata": {},
   "source": [
    "### Preparando dados para enviar a GPU\n",
    "\n",
    "Nesse momento, nós compilamos nossos Vertex e Program Shaders para que a GPU possa processá-los.\n",
    "\n",
    "Por outro lado, as informações de vértices geralmente estão na CPU e devem ser transmitidas para a GPU.\n"
   ]
  },
  {
   "cell_type": "markdown",
   "metadata": {},
   "source": [
    "### Modelando cubos\n",
    "\n",
    "Existem diferentes formas de modelar um cubo. Nós usaremos uma estratégia baseada no Quadrado com TRIANGLE_STRIP, conforme vimos na Aula04.Ex05. Assim, um quadrado é modelado usando dois triângulos e precisamos de apenas quatro vértices para isso (devido ao TRIANGLE_STRIP).\n",
    "\n",
    "Nessa aula, nós concatenamos vértices de num_cubos cubos, em que num_cubos é uma variável."
   ]
  },
  {
   "cell_type": "code",
   "execution_count": 43,
   "metadata": {},
   "outputs": [],
   "source": [
    "def qtd_vertices_cilindro(sectors, stacks, vertices_base):\n",
    "    base = vertices_base * 2\n",
    "    lado = sectors * stacks * 6\n",
    "    return lado + base"
   ]
  },
  {
   "cell_type": "code",
   "execution_count": 44,
   "metadata": {},
   "outputs": [],
   "source": [
    "def qtd_vertices_esfera(sectors, stacks):\n",
    "    return sectors * stacks * 6"
   ]
  },
  {
   "cell_type": "code",
   "execution_count": 45,
   "metadata": {},
   "outputs": [],
   "source": [
    "# preparando espaço para n cubos (cada cubo tem 24 vertices), m pirâmides (cada pirâmide tem 16 vertices), p cilindros (número variável de vértices) e q esferas\n",
    "\n",
    "sectors_cilindro = 30  # quantidade de sectors por cilindro (longitude) \n",
    "stacks_cilindro = 30   # quantidade de stacks por cilindro (latitude)\n",
    "base_cilindro = 30     # quantidade de vértices componentes de cada base do cilindro\n",
    "\n",
    "sectors_esfera = 30     # quantidade de sectors por esfera (longitude)\n",
    "stacks_esfera = 30      # quantidade de stacks por esfera (latitude)\n",
    "\n",
    "vertices_cilindro = qtd_vertices_cilindro(sectors_cilindro, stacks_cilindro, base_cilindro)    # número de vértices por cilindro\n",
    "vertices_esfera = qtd_vertices_esfera(sectors_esfera, stacks_esfera)                           # número de vértices por esfera\n",
    "\n",
    "num_cubos = 6                   # número de cubos\n",
    "num_piramides = 2               # número de pirâmides \n",
    "num_cilindros = 1               # número de cilindros\n",
    "num_esferas = 1                 # número de esferas "
   ]
  },
  {
   "cell_type": "code",
   "execution_count": 46,
   "metadata": {},
   "outputs": [],
   "source": [
    "def get_cubo():\n",
    "    cubo = [\n",
    "    # Face 1\n",
    "    (-0.1, -0.1, +0.1),\n",
    "    (+0.1, -0.1, +0.1),\n",
    "    (-0.1, +0.1, +0.1),\n",
    "    (+0.1, +0.1, +0.1),\n",
    "\n",
    "    # Face 2\n",
    "    (+0.1, -0.1, +0.1),\n",
    "    (+0.1, -0.1, -0.1),         \n",
    "    (+0.1, +0.1, +0.1),\n",
    "    (+0.1, +0.1, -0.1),\n",
    "    \n",
    "    # Face 3\n",
    "    (+0.1, -0.1, -0.1),\n",
    "    (-0.1, -0.1, -0.1),            \n",
    "    (+0.1, +0.1, -0.1),\n",
    "    (-0.1, +0.1, -0.1),\n",
    "\n",
    "    # Face 4\n",
    "    (-0.1, -0.1, -0.1),\n",
    "    (-0.1, -0.1, +0.1),         \n",
    "    (-0.1, +0.1, -0.1),\n",
    "    (-0.1, +0.1, +0.1),\n",
    "\n",
    "    # Face 5\n",
    "    (-0.1, -0.1, -0.1),\n",
    "    (+0.1, -0.1, -0.1),         \n",
    "    (-0.1, -0.1, +0.1),\n",
    "    (+0.1, -0.1, +0.1),\n",
    "    \n",
    "    # Face 6\n",
    "    (-0.1, +0.1, +0.1),\n",
    "    (+0.1, +0.1, +0.1),           \n",
    "    (-0.1, +0.1, -0.1),\n",
    "    (+0.1, +0.1, -0.1)]\n",
    "    \n",
    "    return cubo"
   ]
  },
  {
   "cell_type": "code",
   "execution_count": 47,
   "metadata": {},
   "outputs": [],
   "source": [
    "def get_piramide():\n",
    "    piramide = [\n",
    "        # base quadrada\n",
    "        (-0.1,-0.1,+0.1),\n",
    "        (+0.1,-0.1,+0.1),\n",
    "        (-0.1,-0.1,-0.1),\n",
    "        (+0.1,-0.1,-0.1), \n",
    "\n",
    "        # triângulo 1   \n",
    "        (-0.1,-0.1,-0.1),\n",
    "        (+0.1,-0.1,-0.1),\n",
    "        (0,+0.1,0),    \n",
    "\n",
    "        # triângulo 2                        \n",
    "        (+0.1,-0.1,+0.1),\n",
    "        (+0.1,-0.1,-0.1),\n",
    "        (0,+0.1,0),\n",
    "\n",
    "        # triângulo 3                             \n",
    "        (-0.1,-0.1,-0.1),\n",
    "        (-0.1,-0.1,+0.1),\n",
    "        (0,+0.1,0),\n",
    "\n",
    "        # triângulo 4                               \n",
    "        (-0.1,-0.1,+0.1),\n",
    "        (+0.1,-0.1,+0.1),\n",
    "        (0,+0.1,0)]\n",
    "\n",
    "    return piramide"
   ]
  },
  {
   "cell_type": "code",
   "execution_count": 48,
   "metadata": {},
   "outputs": [],
   "source": [
    "# Entrada: ângulo e altura\n",
    "# Saida: coordenadas no cilindro\n",
    "def coordenadas_cilindro(t,h):\n",
    "    x = math.cos(t)\n",
    "    y = math.sin(t)\n",
    "    z = h\n",
    "    return (x,y,z)\n",
    "\n",
    "def get_cilindro(sectors,stacks,base):\n",
    "    PI = 3.141592\n",
    "    sector_step = (PI*2)/sectors        # variar de 0 até 2π\n",
    "    stack_step = 1.0/stacks             # variar de 0 até h\n",
    "    vertices = []\n",
    "\n",
    "    un = 0\n",
    "    vn = 0\n",
    "\n",
    "    for i in range(0,sectors):    \n",
    "\n",
    "        u = i * sector_step                             # ângulo do sector                                              \n",
    "        if i+1 != sectors: un = (i+1) * sector_step     # ângulo do sector da próxima iteração\n",
    "        else: un = PI*2                                 # ângulo do sector definido na última iteração para não deixar lacunas no cilindro por causa da aproximação\n",
    "\n",
    "        for j in range(0,stacks):   \n",
    "        \n",
    "            v = j * stack_step                              # altura da stack\n",
    "            if j+1 != stacks: vn = (j+1) * stack_step       # altura da stack da próxima iteração\n",
    "            else: vn = 1.0                                  # altura da stack definida na última iteração para não deixar lacunas no cilindro por causa da aproximação\n",
    "        \n",
    "            p0 = coordenadas_cilindro(u,v)\n",
    "            p1 = coordenadas_cilindro(u,vn)\n",
    "            p2 = coordenadas_cilindro(un,v)\n",
    "            p3 = coordenadas_cilindro(un,vn)\n",
    "        \n",
    "            # triangulo 1 (primeira parte do poligono)\n",
    "            vertices.append(p0)\n",
    "            vertices.append(p2)\n",
    "            vertices.append(p1)\n",
    "        \n",
    "            # triangulo 2 (segunda e ultima parte do poligono)\n",
    "            vertices.append(p3)\n",
    "            vertices.append(p1)\n",
    "            vertices.append(p2)\n",
    "\n",
    "    # tampas do cilindro\n",
    "    base_sup = []\n",
    "    base_inf = []\n",
    "    angle = 0.0\n",
    "\n",
    "    for i in range(base):\n",
    "        angle += 2*PI / base \n",
    "        x = math.cos(angle)\n",
    "        y = math.sin(angle)\n",
    "        ci = (x,y,0.0)\n",
    "        cs = (x,y,1.0)\n",
    "        base_inf.append(ci)\n",
    "        base_sup.append(cs)\n",
    "\n",
    "    vertices.extend(base_inf)\n",
    "    vertices.extend(base_sup)\n",
    "\n",
    "    return vertices"
   ]
  },
  {
   "cell_type": "code",
   "execution_count": 49,
   "metadata": {},
   "outputs": [],
   "source": [
    "# Entrada: ângulo de longitude e latitude\n",
    "# Saida: coordenadas na esfera\n",
    "def coordenadas_esfera(u,v):\n",
    "    x = math.cos(u) * math.sin(v)\n",
    "    y = math.sin(u) * math.sin(v)\n",
    "    z = math.cos(v)\n",
    "    return (x,y,z)\n",
    "\n",
    "def get_esfera(sectors,stacks):\n",
    "    PI = 3.141592\n",
    "    sector_step = (2*PI)/sectors\n",
    "    stack_step = PI/stacks\n",
    "    vertices = []\n",
    "\n",
    "    # ângulos pertecentes à iteração seguinte\n",
    "    un = 0\n",
    "    vn = 0\n",
    "\n",
    "    # calcula a lista de vértices da esfera\n",
    "    for i in np.arange(sectors):\n",
    "\n",
    "        u = i * sector_step                          # ângulo do sector\n",
    "        if i+1 != sectors: un = (i+1) * sector_step  # ângulo do sector da próxima iteração\n",
    "        else: un = 2*PI                              # ângulo do sector definido na última iteração para não deixar lacunas na esfera por causa da aproximação\n",
    "\n",
    "        for j in np.arange(stacks):\n",
    "\n",
    "            v = j * stack_step                        # ângulo da stack\n",
    "            if j+1 != stacks: vn = (j+1) * stack_step # ângulo da stack da próxima iteração\n",
    "            else: vn = PI                             # ângulo da stack definido na última iteração para não deixar lacunas na esfera por causa da aproximação\n",
    "\n",
    "            # cálculo dos vértices componentes da esfera\n",
    "            p0 = coordenadas_esfera(u,v) \n",
    "            p1 = coordenadas_esfera(u,vn)\n",
    "            p2 = coordenadas_esfera(un,v)\n",
    "            p3 = coordenadas_esfera(un,vn)\n",
    "\n",
    "            # primeira parte do polígono\n",
    "            vertices.append(p0)\n",
    "            vertices.append(p2)\n",
    "            vertices.append(p1)\n",
    "            #segunda parte do polígono\n",
    "            vertices.append(p3)\n",
    "            vertices.append(p1)\n",
    "            vertices.append(p2)\n",
    "\n",
    "    return vertices"
   ]
  },
  {
   "cell_type": "code",
   "execution_count": 50,
   "metadata": {},
   "outputs": [],
   "source": [
    "# preenchendo o vetor de vertices com todas as figuras geométricas \n",
    "if num_cubos > 0: cubos = get_cubo()                                                             # cubo número 1\n",
    "if num_piramides > 0: piramides = get_piramide()                                                 # pirâmide número 1\n",
    "if num_cilindros > 0: cilindros = get_cilindro(sectors_cilindro,stacks_cilindro,base_cilindro)   # cilindro número 1\n",
    "if num_esferas > 0: esferas = get_esfera(sectors_esfera,stacks_esfera)                           # esfera número 1\n",
    "\n",
    "for i in range(1,num_cubos):                           # pegando o restante dos outros cubos\n",
    "    vert_cubo = get_cubo()                             # pegando um novo cubo\n",
    "    cubos = np.concatenate((cubos, vert_cubo), axis=0) # adicionando os vertices do cubo no nosso vetor de vertices\n",
    "\n",
    "for i in range(1,num_piramides):                                        # pegando o restante das pirâmides\n",
    "    vert_piramide = get_piramide()                                      # pegando uma nova pirâmide\n",
    "    piramides = np.concatenate((piramides, vert_piramide), axis = 0)    # adicionando os vértices da pirâmide no nosso vetor de vértices\n",
    "\n",
    "for i in range(1,num_cilindros):                                                    # pegando o restante dos cilindros\n",
    "    vert_cilindro = get_cilindro(sectors_cilindro,stacks_cilindro,base_cilindro)    # pegando um novo cilindro\n",
    "    cilindros = np.concatenate((cilindros, vert_cilindro), axis = 0)                # adicionando os vértices do cilindro no nosso vetor de vértices\n",
    "\n",
    "for i in range(1,num_esferas):                                   # pegando o restante das esferas\n",
    "    vert_esfera = get_esfera(sectors_esfera,stacks_esfera)       # pegando uma nova esfera\n",
    "    esferas = np.concatenate((esfera, vert_esfera), axis = 0)    # adicionando os vértices da esfera no nosso vetor de vértices\n",
    "\n",
    "size = num_cubos*24 + num_piramides*16 + num_cilindros*vertices_cilindro + num_esferas*vertices_esfera\n",
    "shapes = []\n",
    "\n",
    "if num_cubos > 0: shapes.extend(cubos)\n",
    "if num_piramides > 0: shapes.extend(piramides)\n",
    "if num_cilindros > 0: shapes.extend(cilindros)\n",
    "if num_esferas > 0: shapes.extend(esferas)\n",
    "\n",
    "vertices = np.zeros(size, [(\"position\", np.float32, 3)])\n",
    "vertices['position'] = np.array(shapes)"
   ]
  },
  {
   "cell_type": "code",
   "execution_count": 51,
   "metadata": {},
   "outputs": [],
   "source": [
    "# Request a buffer slot from GPU\n",
    "buffer = glGenBuffers(1)\n",
    "# Make this buffer the default one\n",
    "glBindBuffer(GL_ARRAY_BUFFER, buffer)\n"
   ]
  },
  {
   "cell_type": "markdown",
   "metadata": {},
   "source": [
    "### Abaixo, nós enviamos todo o conteúdo da variável vertices.\n",
    "\n",
    "Veja os parâmetros da função glBufferData [https://www.khronos.org/registry/OpenGL-Refpages/gl4/html/glBufferData.xhtml]"
   ]
  },
  {
   "cell_type": "code",
   "execution_count": 52,
   "metadata": {},
   "outputs": [],
   "source": [
    "# Upload data\n",
    "glBufferData(GL_ARRAY_BUFFER, vertices.nbytes, vertices, GL_DYNAMIC_DRAW)\n",
    "glBindBuffer(GL_ARRAY_BUFFER, buffer)"
   ]
  },
  {
   "cell_type": "markdown",
   "metadata": {},
   "source": [
    "### Associando variáveis do programa GLSL (Vertex Shaders) com nossos dados\n",
    "\n",
    "Primeiro, definimos o byte inicial e o offset dos dados."
   ]
  },
  {
   "cell_type": "code",
   "execution_count": 53,
   "metadata": {},
   "outputs": [],
   "source": [
    "# Bind the position attribute\n",
    "# --------------------------------------\n",
    "stride = vertices.strides[0]\n",
    "offset = ctypes.c_void_p(0)\n"
   ]
  },
  {
   "cell_type": "markdown",
   "metadata": {},
   "source": [
    "Em seguida, soliciamos à GPU a localização da variável \"position\" (que guarda coordenadas dos nossos vértices). Nós definimos essa variável no Vertex Shader."
   ]
  },
  {
   "cell_type": "code",
   "execution_count": 54,
   "metadata": {},
   "outputs": [],
   "source": [
    "loc = glGetAttribLocation(program, \"position\")\n",
    "glEnableVertexAttribArray(loc)"
   ]
  },
  {
   "cell_type": "markdown",
   "metadata": {},
   "source": [
    "A partir da localização anterior, nós indicamos à GPU onde está o conteúdo (via posições stride/offset) para a variável position (aqui identificada na posição loc).\n",
    "\n",
    "Outros parâmetros:\n",
    "\n",
    "* Definimos que possui duas coordenadas\n",
    "* Que cada coordenada é do tipo float (GL_FLOAT)\n",
    "* Que não se deve normalizar a coordenada (False)\n",
    "\n",
    "Mais detalhes: https://www.khronos.org/registry/OpenGL-Refpages/gl4/html/glVertexAttribPointer.xhtml"
   ]
  },
  {
   "cell_type": "code",
   "execution_count": 55,
   "metadata": {},
   "outputs": [],
   "source": [
    "glVertexAttribPointer(loc, 3, GL_FLOAT, False, stride, offset)"
   ]
  },
  {
   "cell_type": "markdown",
   "metadata": {},
   "source": [
    "###  Vamos pegar a localização da variável color (uniform) do Fragment Shader para que possamos alterá-la em nosso laço da janela!"
   ]
  },
  {
   "cell_type": "code",
   "execution_count": 56,
   "metadata": {},
   "outputs": [],
   "source": [
    "loc_color = glGetUniformLocation(program, \"color\")"
   ]
  },
  {
   "cell_type": "markdown",
   "metadata": {},
   "source": [
    "### Eventos para modificar a posição da câmera.\n",
    "\n",
    "* Usei as teclas A, S, D e W para movimentação no espaço tridimensional\n",
    "* Usei a posição do mouse para \"direcionar\" a câmera"
   ]
  },
  {
   "cell_type": "code",
   "execution_count": 57,
   "metadata": {},
   "outputs": [],
   "source": [
    "cameraPos   = glm.vec3(0.0,  0.0,  1.0);\n",
    "cameraFront = glm.vec3(0.0,  0.0, -1.0);\n",
    "cameraUp    = glm.vec3(0.0,  1.0,  0.0);\n",
    "\n",
    "\n",
    "def key_event(window,key,scancode,action,mods):\n",
    "    global cameraPos, cameraFront, cameraUp\n",
    "    \n",
    "    cameraSpeed = 0.01\n",
    "    if key == 87 and (action==1 or action==2): # tecla W\n",
    "        cameraPos += cameraSpeed * cameraFront\n",
    "    \n",
    "    if key == 83 and (action==1 or action==2): # tecla S\n",
    "        cameraPos -= cameraSpeed * cameraFront\n",
    "    \n",
    "    if key == 65 and (action==1 or action==2): # tecla A\n",
    "        cameraPos -= glm.normalize(glm.cross(cameraFront, cameraUp)) * cameraSpeed\n",
    "        \n",
    "    if key == 68 and (action==1 or action==2): # tecla D\n",
    "        cameraPos += glm.normalize(glm.cross(cameraFront, cameraUp)) * cameraSpeed\n",
    "        \n",
    "firstMouse = True\n",
    "yaw = -90.0 \n",
    "pitch = 0.0\n",
    "lastX =  largura/2\n",
    "lastY =  altura/2\n",
    "\n",
    "def mouse_event(window, xpos, ypos):\n",
    "    global firstMouse, cameraFront, yaw, pitch, lastX, lastY\n",
    "    if firstMouse:\n",
    "        lastX = xpos\n",
    "        lastY = ypos\n",
    "        firstMouse = False\n",
    "\n",
    "    xoffset = xpos - lastX\n",
    "    yoffset = lastY - ypos\n",
    "    lastX = xpos\n",
    "    lastY = ypos\n",
    "\n",
    "    sensitivity = 0.3 \n",
    "    xoffset *= sensitivity\n",
    "    yoffset *= sensitivity\n",
    "\n",
    "    yaw += xoffset;\n",
    "    pitch += yoffset;\n",
    "\n",
    "    \n",
    "    if pitch >= 90.0: pitch = 90.0\n",
    "    if pitch <= -90.0: pitch = -90.0\n",
    "\n",
    "    front = glm.vec3()\n",
    "    front.x = math.cos(glm.radians(yaw)) * math.cos(glm.radians(pitch))\n",
    "    front.y = math.sin(glm.radians(pitch))\n",
    "    front.z = math.sin(glm.radians(yaw)) * math.cos(glm.radians(pitch))\n",
    "    cameraFront = glm.normalize(front)\n",
    "    \n",
    "glfw.set_key_callback(window,key_event)\n",
    "glfw.set_cursor_pos_callback(window, mouse_event)\n"
   ]
  },
  {
   "cell_type": "markdown",
   "metadata": {},
   "source": [
    "### Matrizes Model, View e Projection\n",
    "\n",
    "Teremos uma aula específica para entender o seu funcionamento."
   ]
  },
  {
   "cell_type": "code",
   "execution_count": 58,
   "metadata": {},
   "outputs": [],
   "source": [
    "def model(angle, r_x, r_y, r_z, t_x, t_y, t_z, s_x, s_y, s_z):\n",
    "    \n",
    "    angle = math.radians(angle)\n",
    "\n",
    "    matrix_transform = glm.mat4(1.0)                                                # instanciando uma matriz identidade   \n",
    "    matrix_transform = glm.rotate(matrix_transform, angle, glm.vec3(r_x, r_y, r_z)) # aplicando rotacao\n",
    "    matrix_transform = glm.translate(matrix_transform, glm.vec3(t_x, t_y, t_z))     # aplicando translacao \n",
    "    matrix_transform = glm.scale(matrix_transform, glm.vec3(s_x, s_y, s_z))         # aplicando escala\n",
    "    matrix_transform = np.array(matrix_transform).T                                 # pegando a transposta da matriz (glm trabalha com ela invertida)\n",
    "    \n",
    "    return matrix_transform\n",
    "\n",
    "def view():\n",
    "    global cameraPos, cameraFront, cameraUp\n",
    "    mat_view = glm.lookAt(cameraPos, cameraPos + cameraFront, cameraUp);\n",
    "    mat_view = np.array(mat_view)\n",
    "    return mat_view\n",
    "\n",
    "def projection():\n",
    "    global altura, largura\n",
    "    # perspective parameters: fovy, aspect, near, far\n",
    "    mat_projection = glm.perspective(glm.radians(45.0), largura/altura, 0.1, 100.0)\n",
    "    mat_projection = np.array(mat_projection)    \n",
    "    return mat_projection"
   ]
  },
  {
   "cell_type": "markdown",
   "metadata": {},
   "source": [
    "### Nesse momento, nós exibimos a janela!\n"
   ]
  },
  {
   "cell_type": "code",
   "execution_count": 59,
   "metadata": {},
   "outputs": [],
   "source": [
    "glfw.show_window(window)\n",
    "glfw.set_cursor_pos(window, lastX, lastY)"
   ]
  },
  {
   "cell_type": "markdown",
   "metadata": {},
   "source": [
    "### Loop principal da janela.\n",
    "Enquanto a janela não for fechada, esse laço será executado. É neste espaço que trabalhamos com algumas interações com a OpenGL.\n",
    "\n",
    "\n",
    "Usaremos o GL_TRIANGLE_STRIP e modelaremos uma face do Cubo por vez, por questões didáticas. Iremos colorir cada face do Cubo com uma cor diferente."
   ]
  },
  {
   "cell_type": "code",
   "execution_count": 60,
   "metadata": {},
   "outputs": [],
   "source": [
    "def desenha_cubo(num_cubo, angle, r_x, r_y, r_z, t_x, t_y, t_z, s_x, s_y, s_z):\n",
    "    \n",
    "    mat_model = model(angle, r_x, r_y, r_z, t_x, t_y, t_z, s_x, s_y, s_z)\n",
    "    loc_model = glGetUniformLocation(program, \"model\")\n",
    "    glUniformMatrix4fv(loc_model, 1, GL_TRUE, mat_model)\n",
    "    \n",
    "    cores_face = [\n",
    "        [0.92, 0.92, 0.92], # R, G, B\n",
    "        [0.88, 0.88, 0.88],\n",
    "        [0.84, 0.84, 0.84],\n",
    "        [0.80, 0.80, 0.80],\n",
    "        [0.76, 0.76, 0.76],        \n",
    "        [0.72, 0.72, 0.72],\n",
    "    ]\n",
    "    \n",
    "    # DESENHANDO O CUBO\n",
    "    face = 0\n",
    "    for i in range(num_cubo*24,(num_cubo+1)*24,4): # incremento de 4 em 4 (desenhando cada face)\n",
    "        R = cores_face[face][0]\n",
    "        G = cores_face[face][1]\n",
    "        B = cores_face[face][2]\n",
    "        glUniform4f(loc_color, R, G, B, 1.0) ### definindo uma cor\n",
    "        glDrawArrays(GL_TRIANGLE_STRIP, i, 4) ## renderizando\n",
    "        face+=1\n",
    "\n",
    "    return"
   ]
  },
  {
   "cell_type": "code",
   "execution_count": 61,
   "metadata": {},
   "outputs": [],
   "source": [
    "def desenha_piramide(num_piramide, angle, r, t, z, offset):\n",
    "\n",
    "    mat_model = model(angle, r[0], r[1], r[2], t[0], t[1], t[2], s[0], s[1], s[2])\n",
    "    loc_model = glGetUniformLocation(program, \"model\")\n",
    "    glUniformMatrix4fv(loc_model, 1, GL_TRUE, mat_model)\n",
    "\n",
    "    # número de vértices da base da pirâmide\n",
    "    vertices_base = 4\n",
    "\n",
    "    # lista de cores aplicada em cada uma das faces \n",
    "    cores_face = [\n",
    "        # R, G, B\n",
    "        [0.85, 0.85, 0.85], \n",
    "        [0.82, 0.82, 0.82],\n",
    "        [0.76, 0.76, 0.76],\n",
    "        [0.73, 0.73, 0.73],\n",
    "        [0.70, 0.70, 0.70],\n",
    "    ]\n",
    "\n",
    "    # DESENHANDO A PIRÂMIDE \n",
    "\n",
    "    # cores da base\n",
    "    R = cores_face[0][0]\n",
    "    G = cores_face[0][1]\n",
    "    B = cores_face[0][2]\n",
    "    # base\n",
    "    i = num_piramide*16 + offset\n",
    "    glUniform4f(loc_color, R, G, B, 1.0)   \n",
    "    glDrawArrays(GL_TRIANGLE_STRIP, i, 4)\n",
    "\n",
    "    # faces\n",
    "    triangulo = 0\n",
    "    for i in range(num_piramide*16 + vertices_base + offset,(num_piramide + 1)*16 + offset,3):\n",
    "        R = cores_face[triangulo + 1][0]\n",
    "        G = cores_face[triangulo + 1][1]\n",
    "        B = cores_face[triangulo + 1][2]\n",
    "\n",
    "        glUniform4f(loc_color, R, G, B, 1.0)  # definindo uma cor\n",
    "        glDrawArrays(GL_TRIANGLE_STRIP, i, 3) # renderizando\n",
    "        triangulo += 1\n",
    "\n",
    "    return"
   ]
  },
  {
   "cell_type": "code",
   "execution_count": 62,
   "metadata": {},
   "outputs": [],
   "source": [
    "def desenha_cilindro(num_cilindro, qtd_vertices, qtd_base, angle, r, t, z, offset):\n",
    "\n",
    "    mat_model = model(angle, r[0], r[1], r[2], t[0], t[1], t[2], s[0], s[1], s[2])\n",
    "    loc_model = glGetUniformLocation(program, \"model\")\n",
    "    glUniformMatrix4fv(loc_model, 1, GL_TRUE, mat_model)\n",
    "\n",
    "    for triangle in range(num_cilindro*qtd_vertices + offset,(num_cilindro + 1)*qtd_vertices + offset - 2*qtd_base,3):\n",
    "       rand.seed(triangle)\n",
    "       color = rand.randint(70,91)\n",
    "       color /= 100        \n",
    "       glUniform4f(loc_color, color, color, color, 1.0)\n",
    "       \n",
    "       glDrawArrays(GL_TRIANGLES, triangle, 3)  \n",
    "\n",
    "    offset_lado = (num_cilindro * qtd_vertices) + (qtd_vertices - 2 * qtd_base) + offset\n",
    "\n",
    "    #tampa inferior\n",
    "    color = rand.randint(70,91)\n",
    "    color /= 100\n",
    "    glUniform4f(loc_color, color, color, color, 1.0)\n",
    "    glDrawArrays(GL_TRIANGLE_FAN, offset_lado, qtd_base) \n",
    "\n",
    "    #tampa superior\n",
    "    color = rand.randint(70,91)\n",
    "    color /= 100\n",
    "    glUniform4f(loc_color, color, color, color, 1.0)\n",
    "    glDrawArrays(GL_TRIANGLE_FAN, offset_lado + qtd_base,qtd_base) \n",
    "\n",
    "    return"
   ]
  },
  {
   "cell_type": "code",
   "execution_count": 63,
   "metadata": {},
   "outputs": [],
   "source": [
    "def desenha_esfera(num_piramide, qtd_vertices, angle, r, t, z, offset):\n",
    "\n",
    "    mat_model = model(angle, r[0], r[1], r[2], t[0], t[1], t[2], s[0], s[1], s[2])\n",
    "    loc_model = glGetUniformLocation(program, \"model\")\n",
    "    glUniformMatrix4fv(loc_model, 1, GL_TRUE, mat_model)\n",
    "\n",
    "    for triangulo in range(num_esfera*qtd_vertices + offset,(num_esfera + 1)*qtd_vertices + offset,3):\n",
    "        rand.seed(triangulo)\n",
    "        color = rand.randint(70,91)\n",
    "        color /= 100\n",
    "\n",
    "        glUniform4f(loc_color, color, color, color, 1.0)  # definindo uma cor\n",
    "        glDrawArrays(GL_TRIANGLES, triangulo, 3)          # renderizando\n",
    "\n",
    "    return"
   ]
  },
  {
   "cell_type": "code",
   "execution_count": 64,
   "metadata": {},
   "outputs": [],
   "source": [
    "glEnable(GL_DEPTH_TEST) ### importante para 3D\n",
    "\n",
    "angulo_obj = 0\n",
    "translacao_qtd = 0.4\n",
    "translacao_lado = False\n",
    "        \n",
    "while not glfw.window_should_close(window):\n",
    "\n",
    "    glfw.poll_events() \n",
    "    glClear(GL_COLOR_BUFFER_BIT | GL_DEPTH_BUFFER_BIT)\n",
    "    glClearColor(1.0, 1.0, 1.0, 1.0)\n",
    "    \n",
    "    #glPolygonMode(GL_FRONT_AND_BACK,GL_LINE)\n",
    "    # computando e enviando matrizes Model, View e Projection para a GPU\n",
    "    \n",
    "    # temos uma matriz model por objeto!\n",
    "    num_cubo=0   \n",
    "    # angulo de rotacao e eixos\n",
    "    angle=0.0; r_x=0.0; r_y=0.0; r_z=1.0\n",
    "    # translacao\n",
    "    t_x=0.4; t_y=0.08; t_z=-0.12\n",
    "    # escala\n",
    "    s_x=0.2; s_y=1.5; s_z=0.2\n",
    "    desenha_cubo(num_cubo, angle, r_x, r_y, r_z, t_x, t_y, t_z, s_x, s_y, s_z)\n",
    "    \n",
    "    \n",
    "    num_cubo=1\n",
    "    # angulo de rotacao e eixos\n",
    "    angle=0.0; r_x=0.0; r_y=0.0; r_z=1.0\n",
    "    # translacao\n",
    "    t_x=-0.4; t_y=0.08; t_z=-0.12\n",
    "    # escala\n",
    "    s_x=0.2; s_y=1.5; s_z=0.2\n",
    "    desenha_cubo(num_cubo, angle, r_x, r_y, r_z, t_x, t_y, t_z, s_x, s_y, s_z)\n",
    "    \n",
    "    \n",
    "    # temos uma matriz model por objeto!\n",
    "    num_cubo=2  \n",
    "    # angulo de rotacao e eixos\n",
    "    angle=0.0; r_x=0.0; r_y=0.0; r_z=1.0\n",
    "    # translacao\n",
    "    t_x=0.4; t_y=0.08; t_z=0.12\n",
    "    # escala\n",
    "    s_x=0.2; s_y=1.5; s_z=0.2\n",
    "    desenha_cubo(num_cubo, angle, r_x, r_y, r_z, t_x, t_y, t_z, s_x, s_y, s_z)\n",
    "    \n",
    "    \n",
    "    num_cubo=3\n",
    "    # angulo de rotacao e eixos\n",
    "    angle=0.0; r_x=0.0; r_y=0.0; r_z=1.0\n",
    "    # translacao\n",
    "    t_x=-0.4; t_y=0.08; t_z=0.12\n",
    "    # escala\n",
    "    s_x=0.2; s_y=1.5; s_z=0.2\n",
    "    desenha_cubo(num_cubo, angle, r_x, r_y, r_z, t_x, t_y, t_z, s_x, s_y, s_z)\n",
    "    \n",
    "    \n",
    "    num_cubo=4\n",
    "    # angulo de rotacao e eixos\n",
    "    angle=180.0; r_x=1.0; r_y=0.0; r_z=0.0\n",
    "    # translacao\n",
    "    t_x=0.0; t_y=0.2; t_z=0.0\n",
    "    # escala\n",
    "    s_x=15.0; s_y=0.1; s_z=15.0\n",
    "    desenha_cubo(num_cubo, angle, r_x, r_y, r_z, t_x, t_y, t_z, s_x, s_y, s_z)\n",
    "\n",
    "\n",
    "    num_cubo=5\n",
    "    # angulo de rotacao e eixos\n",
    "    angle=0.0; r_x=0.0; r_y=0.0; r_z=1.0\n",
    "    # translacao\n",
    "    t_x=0.0; t_y=0.25; t_z=0.0\n",
    "    # escala\n",
    "    s_x=5.0; s_y=0.2; s_z=2.0\n",
    "    desenha_cubo(num_cubo, angle, r_x, r_y, r_z, t_x, t_y, t_z, s_x, s_y, s_z)\n",
    "\n",
    "    # espaço ocupado pelos vértices dos cubos\n",
    "    offset = num_cubos * 24\n",
    "\n",
    "    # PIRÂMIDE 0\n",
    "    num_piramide = 0\n",
    "    angle = angulo_obj             # ângulo de rotação\n",
    "    r = [0.0, 1.0, 0.0]            # eixos de rotação\n",
    "    t = [0.0, 0.6, 0.0]            # translação\n",
    "    s = [1.0, 1.0, 1.0]            # escala\n",
    "    desenha_piramide(num_piramide, angle, r, t, s, offset)\n",
    "\n",
    "    angulo_obj += 1\n",
    "    if angulo_obj == 360: \n",
    "        angulo_obj = 0\n",
    "\n",
    "    # PIRÂMIDE 1\n",
    "    num_piramide = 1\n",
    "    angle = 30.0            # ângulo de rotação\n",
    "    r = [0.0, 0.0, 1.0]     # eixos de rotação\n",
    "    t = [0.5, 0.3, 0.6]     # translação\n",
    "    s = [0.5, 0.8, 0.5]     # escala\n",
    "    desenha_piramide(num_piramide, angle, r, t, s, offset)\n",
    "\n",
    "    offset = (24 * num_cubos) + (16 * num_piramides)\n",
    "\n",
    "    if translacao_qtd <= 0.2: translacao_lado = False\n",
    "    if translacao_qtd >= 0.4: translacao_lado = True\n",
    "\n",
    "    if not translacao_lado: translacao_qtd += 0.01\n",
    "    else: translacao_qtd -= 0.01\n",
    "\n",
    "    # CILINDRO 0\n",
    "    num_cilindro = 0\n",
    "    angle = 180.0                        # ângulo de rotação\n",
    "    r = [0.0, 1.0, 1.0]                  # eixos de rotação\n",
    "    t = [-translacao_qtd, 1.0, 0.2]      # translação\n",
    "    s = [0.02, 0.02, 0.09]               # escala\n",
    "    desenha_cilindro(num_cilindro, vertices_cilindro, base_cilindro, angle, r, t, s, offset)\n",
    "\n",
    "    offset = (24 * num_cubos) + (16 * num_piramides) + (vertices_cilindro * num_cilindros) \n",
    "\n",
    "    # ESFERA 0  \n",
    "    num_esfera = 0\n",
    "    angle = angulo_obj        # ângulo de rotação\n",
    "    r = [0.0, 1.0, 1.0]       # eixos de rotação\n",
    "    t = [0.6, 0.3, 0.4]       # translação\n",
    "    s = [0.03, 0.03, 0.03]    # escala\n",
    "    desenha_esfera(num_esfera, vertices_esfera, angle, r, t, s, offset)\n",
    "\n",
    "    mat_view = view()\n",
    "    loc_view = glGetUniformLocation(program, \"view\")\n",
    "    glUniformMatrix4fv(loc_view, 1, GL_FALSE, mat_view)\n",
    "\n",
    "    mat_projection = projection()\n",
    "    loc_projection = glGetUniformLocation(program, \"projection\")\n",
    "    glUniformMatrix4fv(loc_projection, 1, GL_FALSE, mat_projection)    \n",
    "     \n",
    "    glfw.swap_buffers(window)\n",
    "\n",
    "glfw.terminate()"
   ]
  },
  {
   "cell_type": "markdown",
   "metadata": {},
   "source": [
    "# Exercício\n",
    "\n",
    "Modifique esse código para incluir outros objetos 3D na sua cena, como esferas e pirâmides.\n",
    "* Cada objeto deve ser iniciado com seu centro próximo da coordenada (0,0,0) no Espaço Local.\n",
    "* Cada objeto deve ter sua própria matriz Model, que o posiciona em relação ao Espaço Mundo."
   ]
  }
 ],
 "metadata": {
  "finalized": {
   "timestamp": 1583114796072,
   "trusted": true
  },
  "kernelspec": {
   "display_name": "Python 3.6.9 64-bit ('venv': venv)",
   "language": "python",
   "name": "python36964bitvenvvenvc13b486b8d1f4b15813f149ed34513dc"
  },
  "language_info": {
   "codemirror_mode": {
    "name": "ipython",
    "version": 3
   },
   "file_extension": ".py",
   "mimetype": "text/x-python",
   "name": "python",
   "nbconvert_exporter": "python",
   "pygments_lexer": "ipython3",
   "version": "3.6.9-final"
  }
 },
 "nbformat": 4,
 "nbformat_minor": 2
}